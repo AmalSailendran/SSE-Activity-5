{
 "cells": [
  {
   "cell_type": "code",
   "execution_count": 1,
   "metadata": {},
   "outputs": [],
   "source": [
    "#Task 1"
   ]
  },
  {
   "cell_type": "code",
   "execution_count": 2,
   "metadata": {},
   "outputs": [],
   "source": [
    "import numpy as np\n",
    "import pandas as pd\n",
    "import os\n",
    "import re\n",
    "# Specify git executable file for GitPython in Jupyter Notebook (In IDE, it can still work without this line.)\n",
    "os.environ[\"GIT_PYTHON_REFRESH\"] = \"quiet\"\n",
    "\n",
    "import git\n",
    "from git import RemoteProgress\n",
    "\n",
    "from git import Repo\n",
    "import matplotlib.pyplot as plt\n",
    "import seaborn as sns\n",
    "%matplotlib inline\n",
    "import pprint as pprint"
   ]
  },
  {
   "cell_type": "code",
   "execution_count": 3,
   "metadata": {},
   "outputs": [
    {
     "name": "stdout",
     "output_type": "stream",
     "text": [
      "('fc hoh,fow ct grgxqdfcsz zocsz?nxg qoa ixgg dfct ixcjnq sczfd?wg nxg '\n",
      " \"pbnsscsz do fnrg n pnxdq nd kfnxbcg't pbnkg.dfg cjgn ct do hxcsz wfnd qoa \"\n",
      " 'wnsd do gnd nsj znlgt dfnd qoa wnsd do pbnq.nsj fnrg n bod oi ias '\n",
      " 'dozgdfgx!iggb ixgg do csrcdg loxg pgopbg.fopg do tgg qoa dfgxg!kfggxt,nbckg')\n"
     ]
    }
   ],
   "source": [
    "with open('ex1.enc', 'r') as dataFromFile:\n",
    "    dataFromFile = dataFromFile.read().replace('\\n','')\n",
    "    dataFromFileB=dataFromFile\n",
    "    pprint.pprint(dataFromFile)\n",
    "    charactersToBeReplaced=\"!'.?,\\n \"\n",
    "    for character in charactersToBeReplaced:\n",
    "        dataFromFile=dataFromFile.replace('{}'.format(character),'')\n",
    "    \n"
   ]
  },
  {
   "cell_type": "code",
   "execution_count": 4,
   "metadata": {},
   "outputs": [
    {
     "name": "stdout",
     "output_type": "stream",
     "text": [
      "Letters and Corresponding Frequencies are as follows: \n",
      "\n",
      "[('g', 33),\n",
      " ('d', 23),\n",
      " ('n', 23),\n",
      " ('o', 19),\n",
      " ('f', 15),\n",
      " ('c', 15),\n",
      " ('x', 13),\n",
      " ('s', 13),\n",
      " ('q', 8),\n",
      " ('z', 8),\n",
      " ('b', 8),\n",
      " ('t', 7),\n",
      " ('p', 7),\n",
      " ('i', 6),\n",
      " ('w', 5),\n",
      " ('a', 5),\n",
      " ('r', 4),\n",
      " ('j', 4),\n",
      " ('k', 4),\n",
      " ('h', 3),\n",
      " ('l', 2)]\n",
      "\n",
      " Total Count:  225\n"
     ]
    }
   ],
   "source": [
    "import collections\n",
    "\n",
    "frequencyCount={}\n",
    "for i in dataFromFile:\n",
    "  frequencyCount[i]=frequencyCount.get(i,0)+1\n",
    "TotalCount=sum(frequencyCount.values())\n",
    "frequencyCountSorted=sorted(frequencyCount.items(), key=lambda kv: kv[1], reverse=True)\n",
    "print(\"Letters and Corresponding Frequencies are as follows: \\n\")\n",
    "pprint.pprint(frequencyCountSorted)\n",
    "print(\"\\n Total Count: \",TotalCount)"
   ]
  },
  {
   "cell_type": "code",
   "execution_count": 5,
   "metadata": {},
   "outputs": [
    {
     "name": "stdout",
     "output_type": "stream",
     "text": [
      "Frequency Histogram \n",
      "\n"
     ]
    },
    {
     "data": {
      "image/png": "[encoded data removed]",
      "text/plain": [
       "<Figure size 432x288 with 1 Axes>"
      ]
     },
     "metadata": {
      "needs_background": "light"
     },
     "output_type": "display_data"
    }
   ],
   "source": [
    "#frequency of letters in the file\n",
    "print(\"Frequency Histogram \\n\")\n",
    "plt.bar(list(frequencyCount.keys()), frequencyCount.values(), color='g')\n",
    "plt.show()\n"
   ]
  },
  {
   "cell_type": "code",
   "execution_count": 6,
   "metadata": {},
   "outputs": [
    {
     "data": {
      "image/png": "[encoded data removed]",
      "text/plain": [
       "<Figure size 432x288 with 1 Axes>"
      ]
     },
     "metadata": {
      "needs_background": "light"
     },
     "output_type": "display_data"
    }
   ],
   "source": [
    "#for comparing with the above dataset for deciphering the given input\n",
    "EnglishLanguageFrequency={'e': 12.70, 't': 9.06, 'a': 8.17, 'o': 7.51, 'i': 6.97, 'n': 6.75, 's': 6.33, 'h': 6.09, 'r': 5.99, 'd': 4.25, 'l': 4.03, 'c': 2.78, 'u': 2.76, 'm': 2.41, 'w': 2.36, 'f': 2.23, 'g': 2.02, 'y': 1.97, 'p': 1.93, 'b': 1.29, 'v': 0.98, 'k': 0.77, 'j': 0.15, 'x': 0.15, 'q': 0.10, 'z': 0.07}\n",
    "plt.bar(list(EnglishLanguageFrequency.keys()), EnglishLanguageFrequency.values(), color='g')\n",
    "plt.show()\n"
   ]
  },
  {
   "cell_type": "code",
   "execution_count": 7,
   "metadata": {},
   "outputs": [
    {
     "name": "stdout",
     "output_type": "stream",
     "text": [
      "hi bob,how is everything going?are you free this friday night?we are planning to have a party at charlie's place.the idea is to bring what you want to eat and games that you want to play.and have a lot of fun together!feel free to invite more people.hope to see you there!cheers,alice\n"
     ]
    }
   ],
   "source": [
    "#from the two graphs the following substitutions were guessed to make the most meaningful phrases/sentences\n",
    "toBeSubstituted= {'f': 'h','c': 'i','t': 's','k': 'c','g': 'e','x': 'r','b': 'l','z': 'g','s': 'n','d': 't','a': 'u','q': 'y','r': 'v','i': 'f','n': 'a','h': 'b','j': 'd','l': 'm'}\n",
    "result=\"\"\n",
    "for characterToBeDeciphered in dataFromFileB:\n",
    "    if characterToBeDeciphered in toBeSubstituted:\n",
    "        decipheredCharacter=toBeSubstituted[characterToBeDeciphered]\n",
    "        result=result+decipheredCharacter\n",
    "    elif characterToBeDeciphered==' ':\n",
    "            result=result+' '\n",
    "    elif characterToBeDeciphered!=' ':\n",
    "            result=result+characterToBeDeciphered\n",
    "print(result)"
   ]
  },
  {
   "cell_type": "code",
   "execution_count": 8,
   "metadata": {},
   "outputs": [],
   "source": [
    "#Task 2"
   ]
  },
  {
   "cell_type": "code",
   "execution_count": 9,
   "metadata": {},
   "outputs": [
    {
     "name": "stdout",
     "output_type": "stream",
     "text": [
      "'evfsgm aj vgfjicf oekf mrvud qqzvea'\n"
     ]
    }
   ],
   "source": [
    "with open('ex2.enc', 'r') as dataFromFile:\n",
    "    dataFromFile = dataFromFile.read().replace('\\n','')\n",
    "    dataFromFileB=dataFromFile\n",
    "    pprint.pprint(dataFromFile)\n",
    "    charactersToBeReplaced=\"!'.?,\\n\"\n",
    "    for character in charactersToBeReplaced:\n",
    "        dataFromFile=dataFromFile.replace('{}'.format(character),'')\n",
    "        dataFromFileB=dataFromFile"
   ]
  },
  {
   "cell_type": "code",
   "execution_count": 10,
   "metadata": {},
   "outputs": [
    {
     "name": "stdout",
     "output_type": "stream",
     "text": [
      "['evfsgm', 'aj', 'vgfjicf', 'oekf', 'mrvud', 'qqzvea']\n"
     ]
    }
   ],
   "source": [
    "dataFromFile=dataFromFile.split(\" \")\n",
    "print(dataFromFile)"
   ]
  },
  {
   "cell_type": "code",
   "execution_count": 11,
   "metadata": {},
   "outputs": [
    {
     "name": "stdout",
     "output_type": "stream",
     "text": [
      "{'sunday0': 'evfsgm', 'monday0': 'evfsgm', 'friday0': 'evfsgm', 'tuesday1': 'vgfjicf', 'sunday2': 'qqzvea', 'monday2': 'qqzvea', 'friday2': 'qqzvea'}\n"
     ]
    }
   ],
   "source": [
    "possibleKey={}\n",
    "dupCount=0\n",
    "for cipheredDay in dataFromFile:\n",
    "    if(len('sunday')==len(cipheredDay)):\n",
    "        dupCount=str(dupCount)\n",
    "        possibleKey['sunday'+dupCount]=cipheredDay\n",
    "        dupCount=int(dupCount)\n",
    "    if (len('monday')==len(cipheredDay)):\n",
    "        dupCount=str(dupCount)\n",
    "        possibleKey['monday'+dupCount]=cipheredDay\n",
    "        dupCount=int(dupCount)\n",
    "    if (len('tuesday')==len(cipheredDay)):\n",
    "        dupCount=str(dupCount)\n",
    "        possibleKey['tuesday'+dupCount]=cipheredDay\n",
    "        dupCount=int(dupCount)\n",
    "        dupCount=dupCount+1\n",
    "    if (len('wednesday')==len(cipheredDay)):\n",
    "        dupCount=str(dupCount)\n",
    "        possibleKey['wednesday'+dupCount]=cipheredDay\n",
    "        dupCount=int(dupCount)\n",
    "        dupCount=dupCount+1\n",
    "    if (len('thursday')==len(cipheredDay)):\n",
    "        dupCount=str(dupCount)\n",
    "        possibleKey['thursday'+dupCount]=cipheredDay\n",
    "        dupCount=int(dupCount)\n",
    "        dupCount=dupCount+1\n",
    "    if (len('friday')==len(cipheredDay)):\n",
    "        dupCount=str(dupCount)\n",
    "        possibleKey['friday'+dupCount]=cipheredDay\n",
    "        dupCount=int(dupCount)\n",
    "        dupCount=dupCount+1\n",
    "    if (len('saturday')==len(cipheredDay)):\n",
    "        dupCount=str(dupCount)\n",
    "        possibleKey['saturday'+dupCount]=cipheredDay\n",
    "        dupCount=int(dupCount)\n",
    "        dupCount=dupCount+1\n",
    "\n",
    "print(possibleKey)"
   ]
  },
  {
   "cell_type": "code",
   "execution_count": 12,
   "metadata": {},
   "outputs": [
    {
     "name": "stdout",
     "output_type": "stream",
     "text": [
      "Day: sunday ||||| Cipher: evfsgm ||||| Calculated Key: mbspgo \n",
      "\n",
      "Day: monday ||||| Cipher: evfsgm ||||| Calculated Key: shspgo \n",
      "\n",
      "Day: friday ||||| Cipher: evfsgm ||||| Calculated Key: zexpgo \n",
      "\n",
      "Day: tuesday ||||| Cipher: vgfjicf ||||| Calculated Key: cmbrfch \n",
      "\n",
      "Day: sunday ||||| Cipher: qqzvea ||||| Calculated Key: ywmsec \n",
      "\n",
      "Day: monday ||||| Cipher: qqzvea ||||| Calculated Key: ecmsec \n",
      "\n",
      "Day: friday ||||| Cipher: qqzvea ||||| Calculated Key: lzrsec \n",
      "\n"
     ]
    }
   ],
   "source": [
    "language = \"abcdefghijklmnopqrstuvwxyz\"\n",
    "keyHere=\"\"\n",
    "keys=[]\n",
    "for key,value in possibleKey.items():\n",
    "    key=''.join([i for i in key if not i.isdigit()])\n",
    "    \n",
    "    for i,j in zip(key,value):\n",
    "        keyHere +=  language[(ord(j)-ord(i))%26]\n",
    "    print(\"Day: {} ||||| Cipher: {} ||||| Calculated Key: {} \\n\".format(key,value,keyHere))\n",
    "    keys.append(keyHere)\n",
    "    keyHere=\"\""
   ]
  },
  {
   "cell_type": "code",
   "execution_count": 13,
   "metadata": {},
   "outputs": [
    {
     "name": "stdout",
     "output_type": "stream",
     "text": [
      "----------------------------------\n",
      "*****cipher is:  evfsgm aj vgfjicf oekf mrvud qqzvea\n",
      ">>>>>key is:  mbsp\n",
      "|||||Deciphered Text:  sunduliujfnuwbnzsjnxfucoephgsz\n",
      "----------------------------------\n",
      "*****cipher is:  evfsgmajvgfjicfoekfmrvudqqzvea\n",
      ">>>>>key is:  shsp\n",
      "|||||Deciphered Text:  mondofiudznuqvnzmdnxzocoyjhgmt\n",
      "----------------------------------\n",
      "*****cipher is:  evfsgmajvgfjicfoekfmrvudqqzvea\n",
      ">>>>>key is:  zexp\n",
      "|||||Deciphered Text:  fridhiduwciujyizfgixsrxormcgfw\n",
      "----------------------------------\n",
      "*****cipher is:  evfsgmajvgfjicfoekfmrvudqqzvea\n",
      ">>>>>key is:  cmbr\n",
      "|||||Deciphered Text:  cjebeazstuesgqexcyevpjtmoeyeco\n",
      "----------------------------------\n",
      "*****cipher is:  evfsgmajvgfjicfoekfmrvudqqzvea\n",
      ">>>>>key is:  ywms\n",
      "|||||Deciphered Text:  gztaiqorxktrkgtwgotutzilsundge\n",
      "----------------------------------\n",
      "*****cipher is:  evfsgmajvgfjicfoekfmrvudqqzvea\n",
      ">>>>>key is:  ecms\n",
      "|||||Deciphered Text:  attackorretreatwaituntilmonday\n",
      "----------------------------------\n",
      "*****cipher is:  evfsgmajvgfjicfoekfmrvudqqzvea\n",
      ">>>>>key is:  lzrs\n",
      "|||||Deciphered Text:  twoavnjrkhorxdowtlougwdlfridtb\n"
     ]
    }
   ],
   "source": [
    "language = \"abcdefghijklmnopqrstuvwxyz\"\n",
    "plainText = \"\"\n",
    "keyWithShortLength=[]\n",
    "for i in keys:\n",
    "    keyWithShortLength.append(i[:4])\n",
    "for key in keyWithShortLength:\n",
    "    print(\"----------------------------------\")\n",
    "    print(\"*****cipher is: \",dataFromFileB)\n",
    "    print(\">>>>>key is: \",key)\n",
    "    keyLength = len(key)\n",
    "    dataFromFileB=dataFromFileB.replace(\" \", \"\")\n",
    "    keyListOrd = [ord(i) for i in key]\n",
    "    cipherListOrd = [ord(i) for i in dataFromFileB]\n",
    "    for i in range(len(cipherListOrd)):\n",
    "        valueOriginal = (cipherListOrd[i] - keyListOrd[i % 4]) % 26\n",
    "        plainText +=chr(valueOriginal + 65)\n",
    "    print(\"|||||Deciphered Text: \",plainText.lower()) \n",
    "    plainText=\"\""
   ]
  },
  {
   "cell_type": "code",
   "execution_count": 14,
   "metadata": {},
   "outputs": [],
   "source": [
    "#Task 3"
   ]
  },
  {
   "cell_type": "code",
   "execution_count": null,
   "metadata": {},
   "outputs": [],
   "source": []
  },
  {
   "cell_type": "code",
   "execution_count": null,
   "metadata": {},
   "outputs": [],
   "source": []
  },
  {
   "cell_type": "code",
   "execution_count": null,
   "metadata": {},
   "outputs": [],
   "source": []
  }
 ],
 "metadata": {
  "kernelspec": {
   "display_name": "Python 3",
   "language": "python",
   "name": "python3"
  },
  "language_info": {
   "codemirror_mode": {
    "name": "ipython",
    "version": 3
   },
   "file_extension": ".py",
   "mimetype": "text/x-python",
   "name": "python",
   "nbconvert_exporter": "python",
   "pygments_lexer": "ipython3",
   "version": "3.7.4"
  }
 },
 "nbformat": 4,
 "nbformat_minor": 2
}
